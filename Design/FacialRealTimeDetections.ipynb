{
 "cells": [
  {
   "cell_type": "markdown",
   "metadata": {},
   "source": [
    "Why do programmers not like nature? *Too many bugs and no documentation...*"
   ]
  },
  {
   "cell_type": "markdown",
   "metadata": {},
   "source": [
    "# Pre-Processing\n",
    "| Dependency | Description | Link |\n",
    "|------------|-------------|------|\n",
    "| Emgu.CV | Cross platform .NET wrapper to OpenCV | [![NuGet version](https://badge.fury.io/nu/Emgu.CV.svg)](https://badge.fury.io/nu/Emgu.CV) |\n",
    "| Emgu.CV.runtime.windows | Contains native runtime of Emgu CV for Windows | [![NuGet version](https://badge.fury.io/nu/Emgu.CV.runtime.windows.svg)](https://badge.fury.io/nu/Emgu.CV.runtime.windows) |"
   ]
  },
  {
   "cell_type": "code",
   "execution_count": null,
   "metadata": {
    "dotnet_interactive": {
     "language": "csharp"
    },
    "polyglot_notebook": {
     "kernelName": "csharp"
    },
    "vscode": {
     "languageId": "polyglot-notebook"
    }
   },
   "outputs": [],
   "source": [
    "// Import NuGet packages.\n",
    "#r \"nuget: Emgu.CV\"\n",
    "#r \"nuget: Emgu.CV.runtime.windows\"\n",
    "\n",
    "// Import dependencies.\n",
    "using System.Diagnostics;\n",
    "using System.Drawing;\n",
    "using Emgu.CV;\n",
    "using Emgu.CV.CvEnum;\n",
    "using Emgu.CV.Structure;\n",
    "using static System.Console;"
   ]
  },
  {
   "cell_type": "markdown",
   "metadata": {},
   "source": [
    "# Emgu.CV Simple Webcam Example\n",
    "---\n",
    "**Description:** Opens a camera instance and closes once `ESC` button is pressed."
   ]
  },
  {
   "cell_type": "code",
   "execution_count": null,
   "metadata": {
    "dotnet_interactive": {
     "language": "csharp"
    },
    "polyglot_notebook": {
     "kernelName": "csharp"
    },
    "vscode": {
     "languageId": "polyglot-notebook"
    }
   },
   "outputs": [],
   "source": [
    "using (var capture = new VideoCapture(0, VideoCapture.API.DShow))\n",
    "using (var realtime = new Mat())\n",
    "  while (CvInvoke.WaitKey(1) is not 27)\n",
    "  {\n",
    "    CvInvoke.NamedWindow(\"Realtime Capture\");\n",
    "    capture.Read(realtime);\n",
    "    CvInvoke.Imshow(\"Realtime Capture\", realtime);\n",
    "  }\n",
    "\n",
    "CvInvoke.DestroyAllWindows();"
   ]
  },
  {
   "cell_type": "markdown",
   "metadata": {},
   "source": [
    "# Face and Eye Detection in Real Time\n",
    "---\n",
    "**Purpose:** Connect `Emgu.CV` to a real-time camera device.\n",
    "\n",
    "**Description:** This code implements a VERY simple face detection software that uses [Haar Cascade algorithm](https://docs.opencv.org/3.4/db/d28/tutorial_cascade_classifier.html) to detect the frontal face and eyes. \n",
    "\n",
    "**Workflow:**\n",
    "1. Instantiate a pre-trained Haar Cascade classifier.\n",
    "2. Stream available camera using OpenCV on a window.\n",
    "3. Modify frames to gray and prepare for classifier.\n",
    "4. Classify according to trained cascades.\n",
    "5. Listen to key to be pressed to close window.\n",
    "6. Automatically dispose of all resources."
   ]
  },
  {
   "cell_type": "markdown",
   "metadata": {},
   "source": [
    "## Face Detection"
   ]
  },
  {
   "cell_type": "code",
   "execution_count": null,
   "metadata": {
    "dotnet_interactive": {
     "language": "csharp"
    },
    "polyglot_notebook": {
     "kernelName": "csharp"
    },
    "vscode": {
     "languageId": "polyglot-notebook"
    }
   },
   "outputs": [],
   "source": [
    "// Instantiate a pre-trained Haar Cascade classifier.\n",
    "var faceCascade = new CascadeClassifier(@\"Data/HaarCascadeFrontalFace.xml\");\n",
    "var eyeCascade = new CascadeClassifier(@\"Data/HaarCascadeEyes.xml\");\n",
    "\n",
    "// Stream available camera using OpenCV on a window.\n",
    "using (var capture = new VideoCapture(0, VideoCapture.API.DShow))\n",
    "using (var grayImg = new Mat())\n",
    "using (var realtime = new Mat())\n",
    "  // Listen to key to be pressed to close window.\n",
    "  while (CvInvoke.WaitKey(1) is not 27 && capture.IsOpened)\n",
    "  {\n",
    "    // Modify frames to gray and prepare for classifier.\n",
    "    capture.Read(realtime);\n",
    "    CvInvoke.CvtColor(realtime, grayImg, ColorConversion.Bgra2Gray);\n",
    "    CvInvoke.EqualizeHist(grayImg, grayImg);\n",
    "\n",
    "    // Classify according to trained cascades.\n",
    "    var rectColor = new MCvScalar(0, 0, 255);\n",
    "    foreach (var faceRect in faceCascade.DetectMultiScale(grayImg, minSize: new (30, 30)))\n",
    "      CvInvoke.Rectangle(realtime, faceRect, rectColor);\n",
    "\n",
    "    // Create window and show it.\n",
    "    CvInvoke.NamedWindow(\"Realtime Capture\");\n",
    "    CvInvoke.Imshow(\"Realtime Capture\", realtime);\n",
    "  }\n",
    "\n",
    "CvInvoke.DestroyAllWindows();"
   ]
  },
  {
   "cell_type": "markdown",
   "metadata": {},
   "source": [
    "## Eye Detection"
   ]
  },
  {
   "cell_type": "code",
   "execution_count": null,
   "metadata": {
    "dotnet_interactive": {
     "language": "csharp"
    },
    "polyglot_notebook": {
     "kernelName": "csharp"
    },
    "vscode": {
     "languageId": "polyglot-notebook"
    }
   },
   "outputs": [],
   "source": [
    "// Instantiate a pre-trained Haar Cascade classifier.\n",
    "var faceCascade = new CascadeClassifier(@\"Data/HaarCascadeFrontalFace.xml\");\n",
    "var eyeCascade = new CascadeClassifier(@\"Data/HaarCascadeEyes.xml\");\n",
    "\n",
    "// Stream available camera using OpenCV on a window.\n",
    "using (var capture = new VideoCapture(0, VideoCapture.API.DShow))\n",
    "using (var grayImg = new Mat())\n",
    "using (var realtime = new Mat())\n",
    "  // Listen to key to be pressed to close window.\n",
    "  while (CvInvoke.WaitKey(1) is not 27 && capture.IsOpened)\n",
    "  {\n",
    "    // Modify frames to gray and prepare for classifier.\n",
    "    capture.Read(realtime);\n",
    "    CvInvoke.CvtColor(realtime, grayImg, ColorConversion.Bgra2Gray);\n",
    "    CvInvoke.EqualizeHist(grayImg, grayImg);\n",
    "\n",
    "    // Classify according to trained cascades.\n",
    "    var rectColor = new MCvScalar(0, 0, 255);\n",
    "    foreach (var faceRect in faceCascade.DetectMultiScale(grayImg, minSize: new (30, 30)))\n",
    "      using (var detectedFace = new Mat(realtime, faceRect))\n",
    "      using (var detectedFaceGray = new Mat())\n",
    "      {\n",
    "        CvInvoke.Rectangle(realtime, faceRect, rectColor);\n",
    "        CvInvoke.CvtColor(detectedFace, detectedFaceGray, ColorConversion.Bgra2Gray);\n",
    "        \n",
    "        var circleColor = new MCvScalar(0, 255, 0);\n",
    "        foreach (var eye in eyeCascade.DetectMultiScale(detectedFaceGray, minSize: new (30, 30)))\n",
    "        {\n",
    "          var x = (int)(Math.Round(eye.X + eye.Width * 0.5, MidpointRounding.ToEven) + faceRect.Left);\n",
    "          var y = (int)(Math.Round(eye.Y + eye.Height * 0.5, MidpointRounding.ToEven) + faceRect.Top);\n",
    "          var center = new Point(x, y);\n",
    "\n",
    "          var radius = (int)(Math.Round((eye.Width + eye.Height) * 0.25, MidpointRounding.ToEven));\n",
    "          CvInvoke.Circle(realtime, center, radius, circleColor, 2);\n",
    "        }\n",
    "      }\n",
    "\n",
    "    // Create window and show it.\n",
    "    CvInvoke.NamedWindow(\"Realtime Capture\");\n",
    "    CvInvoke.Imshow(\"Realtime Capture\", realtime);\n",
    "  }\n",
    "\n",
    "CvInvoke.DestroyAllWindows();"
   ]
  },
  {
   "cell_type": "markdown",
   "metadata": {},
   "source": [
    "## Facial Detection with FPS"
   ]
  },
  {
   "cell_type": "code",
   "execution_count": null,
   "metadata": {
    "vscode": {
     "languageId": "polyglot-notebook"
    }
   },
   "outputs": [],
   "source": [
    "// Instantiate a pre-trained Haar Cascade classifier.\n",
    "var faceCascade = new CascadeClassifier(@\"Data/HaarCascadeFrontalFace.xml\");\n",
    "var eyeCascade = new CascadeClassifier(@\"Data/HaarCascadeEyes.xml\");\n",
    "\n",
    "// Stream available camera using OpenCV on a window.\n",
    "using (var capture = new VideoCapture(0, VideoCapture.API.DShow))\n",
    "using (var grayImg = new Mat())\n",
    "using (var realtime = new Mat())\n",
    "  {\n",
    "    // Add stopwatch to calculate FPS.\n",
    "    var watch = new Stopwatch();\n",
    "    watch.Start();\n",
    "    var count = 0;\n",
    "\n",
    "    // Listen to key to be pressed to close window.\n",
    "    while (CvInvoke.WaitKey(1) is not 27 && capture.IsOpened)\n",
    "    {\n",
    "      count++;\n",
    "\n",
    "      // Modify frames to gray and prepare for classifier.\n",
    "      capture.Read(realtime);\n",
    "      CvInvoke.CvtColor(realtime, grayImg, ColorConversion.Bgra2Gray);\n",
    "      CvInvoke.EqualizeHist(grayImg, grayImg);\n",
    "\n",
    "      // Classify according to trained cascades.\n",
    "      var rectColor = new MCvScalar(0, 0, 255);\n",
    "      foreach (var faceRect in faceCascade.DetectMultiScale(grayImg, minSize: new (30, 30)))\n",
    "        using (var detectedFace = new Mat(realtime, faceRect))\n",
    "        using (var detectedFaceGray = new Mat())\n",
    "        {\n",
    "          CvInvoke.Rectangle(realtime, faceRect, rectColor);\n",
    "          CvInvoke.CvtColor(detectedFace, detectedFaceGray, ColorConversion.Bgra2Gray);\n",
    "          \n",
    "          var circleColor = new MCvScalar(0, 255, 0);\n",
    "          foreach (var eye in eyeCascade.DetectMultiScale(detectedFaceGray, minSize: new (30, 30)))\n",
    "          {\n",
    "            var x = (int)(Math.Round(eye.X + eye.Width * 0.5, MidpointRounding.ToEven) + faceRect.Left);\n",
    "            var y = (int)(Math.Round(eye.Y + eye.Height * 0.5, MidpointRounding.ToEven) + faceRect.Top);\n",
    "            var center = new Point(x, y);\n",
    "\n",
    "            var radius = (int)(Math.Round((eye.Width + eye.Height) * 0.25, MidpointRounding.ToEven));\n",
    "            CvInvoke.Circle(realtime, center, radius, circleColor, 2);\n",
    "          }\n",
    "        }\n",
    "        \n",
    "        // Display FPS.\n",
    "        var fpsColor = new MCvScalar(255, 0, 0);\n",
    "        double frame = (double)count / watch.ElapsedMilliseconds * 1000;\n",
    "        CvInvoke.PutText(realtime, $\"FPS:{frame:F}\", new (10, 30), FontFace.HersheyPlain, 2, fpsColor, 2);\n",
    "\n",
    "      // Create window and show it.\n",
    "      CvInvoke.NamedWindow(\"Realtime Capture\");\n",
    "      CvInvoke.Imshow(\"Realtime Capture\", realtime);\n",
    "    }\n",
    "  }\n",
    "\n",
    "CvInvoke.DestroyAllWindows();"
   ]
  }
 ],
 "metadata": {
  "kernelspec": {
   "display_name": ".NET (C#)",
   "language": "C#",
   "name": ".net-csharp"
  },
  "language_info": {
   "name": "python"
  },
  "polyglot_notebook": {
   "kernelInfo": {
    "defaultKernelName": "csharp",
    "items": [
     {
      "aliases": [],
      "name": "csharp"
     }
    ]
   }
  }
 },
 "nbformat": 4,
 "nbformat_minor": 2
}
