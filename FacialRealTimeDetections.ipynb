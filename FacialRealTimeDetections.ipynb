{
 "cells": [
  {
   "cell_type": "markdown",
   "metadata": {},
   "source": [
    "# Pre-Processing\n",
    "| Dependency | Description | Link |\n",
    "|------------|-------------|------|\n",
    "| Emgu.CV | Cross platform .NET wrapper to OpenCV | [![NuGet version](https://badge.fury.io/nu/Emgu.CV.svg)](https://badge.fury.io/nu/Emgu.CV) |\n",
    "| Emgu.CV.runtime.windows | Contains native runtime of Emgu CV for Windows | [![NuGet version](https://badge.fury.io/nu/Emgu.CV.runtime.windows.svg)](https://badge.fury.io/nu/Emgu.CV.runtime.windows) |"
   ]
  },
  {
   "cell_type": "code",
   "execution_count": 1,
   "metadata": {
    "vscode": {
     "languageId": "polyglot-notebook"
    }
   },
   "outputs": [
    {
     "data": {
      "text/html": [
       "<div><div></div><div></div><div><strong>Installed Packages</strong><ul><li><span>Emgu.CV, 4.9.0.5494</span></li><li><span>Emgu.CV.runtime.windows, 4.9.0.5494</span></li></ul></div></div>"
      ]
     },
     "metadata": {},
     "output_type": "display_data"
    }
   ],
   "source": [
    "// Import NuGet packages.\n",
    "#r \"nuget: Emgu.CV\"\n",
    "#r \"nuget: Emgu.CV.runtime.windows\"\n",
    "\n",
    "// Import dependencies.\n",
    "using Emgu.CV;\n",
    "using Emgu.CV.CvEnum;\n",
    "using static System.Console;"
   ]
  },
  {
   "cell_type": "markdown",
   "metadata": {},
   "source": [
    "# Emgu.CV Simple Webcam Example\n",
    "---\n",
    "Opens a camera instance and closes once `ESC` button is pressed."
   ]
  },
  {
   "cell_type": "code",
   "execution_count": 8,
   "metadata": {
    "vscode": {
     "languageId": "polyglot-notebook"
    }
   },
   "outputs": [],
   "source": [
    "using (var capture = new VideoCapture(0, VideoCapture.API.DShow))\n",
    "using (var realtime = new Mat())\n",
    "  while (CvInvoke.WaitKey(1) is not 27)\n",
    "  {\n",
    "    CvInvoke.NamedWindow(\"Realtime Capture\");\n",
    "    capture.Read(realtime);\n",
    "    CvInvoke.Imshow(\"Realtime Capture\", realtime);\n",
    "  }\n",
    "\n",
    "CvInvoke.DestroyAllWindows();"
   ]
  },
  {
   "cell_type": "markdown",
   "metadata": {},
   "source": [
    "# Face and Eye Detection in Real Time\n",
    "---\n",
    "This code implements a VERY simple face detection software that uses [Haar Cascade algorithm](https://docs.opencv.org/3.4/db/d28/tutorial_cascade_classifier.html) to detect the frontal face and eyes. The workflow is as follows:\n",
    "1. Instantiate a pre-trained Haar Cascade classifier.\n",
    "2. Stream available camera using OpenCV on a window.\n",
    "3. Modify frames to gray and prepare for classifier.\n",
    "4. Classify according to trained cascade.\n",
    "5. Listen to key to be pressed to close window.\n",
    "6. Automatically dispose of all resources."
   ]
  },
  {
   "cell_type": "markdown",
   "metadata": {},
   "source": [
    "## Face Detection"
   ]
  },
  {
   "cell_type": "code",
   "execution_count": null,
   "metadata": {
    "vscode": {
     "languageId": "polyglot-notebook"
    }
   },
   "outputs": [],
   "source": []
  },
  {
   "cell_type": "markdown",
   "metadata": {},
   "source": [
    "## Eye Detection"
   ]
  },
  {
   "cell_type": "code",
   "execution_count": null,
   "metadata": {
    "vscode": {
     "languageId": "polyglot-notebook"
    }
   },
   "outputs": [],
   "source": []
  }
 ],
 "metadata": {
  "kernelspec": {
   "display_name": ".NET (C#)",
   "language": "C#",
   "name": ".net-csharp"
  },
  "language_info": {
   "name": "python"
  },
  "polyglot_notebook": {
   "kernelInfo": {
    "defaultKernelName": "csharp",
    "items": [
     {
      "aliases": [],
      "name": "csharp"
     }
    ]
   }
  }
 },
 "nbformat": 4,
 "nbformat_minor": 2
}
